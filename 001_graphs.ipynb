{
 "cells": [
  {
   "cell_type": "markdown",
   "metadata": {},
   "source": [
    "### Graph structure without using adjecency matrix "
   ]
  },
  {
   "cell_type": "code",
   "execution_count": 111,
   "metadata": {},
   "outputs": [],
   "source": [
    "class Edge:\n",
    "    def __init__(self,key):\n",
    "        self.key=key\n",
    "        self.connectedTo={}\n",
    "        self.state=0\n",
    "        \n",
    "    def addEdge(self,key,w=0):\n",
    "        self.connectedTo[key]=0\n",
    "        \n",
    "    def getConnections(self):\n",
    "        return self.connectedTo.keys()\n",
    "    "
   ]
  },
  {
   "cell_type": "code",
   "execution_count": 94,
   "metadata": {},
   "outputs": [],
   "source": [
    "class Graph:\n",
    "    def __init__(self):\n",
    "        self.n_nodes=0\n",
    "        self.nodes={}\n",
    "        \n",
    "    def createNode(self,node):\n",
    "        self.n_nodes+=1\n",
    "        self.nodes[node]=Edge(node)\n",
    "        return self.nodes[node]\n",
    "    \n",
    "    def creteConnection(self,v1,v2):\n",
    "        if v1 not in self.nodes:\n",
    "            self.createNode(v1)\n",
    "        if v2 not in self.nodes:\n",
    "            self.createNode(v2)\n",
    "        self.nodes[v1].addEdge(v2)\n",
    "        \n",
    "    def getNode(self,key):\n",
    "        if key in self.nodes:\n",
    "            return self.nodes[key]\n",
    "        return None\n",
    "    def __iter__(self):\n",
    "        return iter(self.nodes.values())\n",
    "        "
   ]
  },
  {
   "cell_type": "code",
   "execution_count": 64,
   "metadata": {},
   "outputs": [],
   "source": [
    "g=Graph()"
   ]
  },
  {
   "cell_type": "code",
   "execution_count": 65,
   "metadata": {},
   "outputs": [
    {
     "data": {
      "text/plain": [
       "<__main__.Edge at 0x7f55bf59b100>"
      ]
     },
     "execution_count": 65,
     "metadata": {},
     "output_type": "execute_result"
    }
   ],
   "source": [
    "g.createNode('Maharshi')"
   ]
  },
  {
   "cell_type": "code",
   "execution_count": 66,
   "metadata": {},
   "outputs": [],
   "source": [
    "g.creteConnection('Maharshi','School')\n",
    "g.creteConnection('Maharshi','High School')\n",
    "g.creteConnection('Maharshi','College')\n",
    "g.creteConnection('Maharshi','University')"
   ]
  },
  {
   "cell_type": "code",
   "execution_count": 67,
   "metadata": {},
   "outputs": [],
   "source": [
    "e=g.getNode('Maharshi')"
   ]
  },
  {
   "cell_type": "code",
   "execution_count": 68,
   "metadata": {},
   "outputs": [
    {
     "data": {
      "text/plain": [
       "dict_keys(['School', 'High School', 'College', 'University'])"
      ]
     },
     "execution_count": 68,
     "metadata": {},
     "output_type": "execute_result"
    }
   ],
   "source": [
    "e.getConnections()"
   ]
  },
  {
   "cell_type": "code",
   "execution_count": 70,
   "metadata": {},
   "outputs": [
    {
     "name": "stdout",
     "output_type": "stream",
     "text": [
      "Maharshi : dict_keys(['School', 'High School', 'College', 'University'])\n",
      "School : dict_keys([])\n",
      "High School : dict_keys([])\n",
      "College : dict_keys([])\n",
      "University : dict_keys([])\n"
     ]
    }
   ],
   "source": [
    "for e in g:\n",
    "    print(e.edge,':',e.getConnections())"
   ]
  },
  {
   "cell_type": "markdown",
   "metadata": {},
   "source": [
    "### Finding subgraphs within a Graph structure"
   ]
  },
  {
   "cell_type": "markdown",
   "metadata": {},
   "source": [
    "##### Undirected Graph"
   ]
  },
  {
   "cell_type": "code",
   "execution_count": 101,
   "metadata": {},
   "outputs": [],
   "source": [
    "import random\n",
    "import pdb "
   ]
  },
  {
   "cell_type": "code",
   "execution_count": 172,
   "metadata": {},
   "outputs": [],
   "source": [
    "def generate_subgraphs(sub_graph_len,number_of_edges=20,r=10):\n",
    "    vertices=[]\n",
    "    subgraph_range=[(i*r,((i+1)*r)-1) for i in range(sub_graph_len)]   \n",
    "    for _min,_max in subgraph_range:\n",
    "        for i in range(number_of_edges):\n",
    "            v1,v2=random.randint(_min,_max),random.randint(_min,_max)\n",
    "            if v1!=v2:\n",
    "                vertices.extend(((v1,v2),(v2,v1)))\n",
    "    return vertices        "
   ]
  },
  {
   "cell_type": "code",
   "execution_count": 173,
   "metadata": {},
   "outputs": [],
   "source": [
    "vertices=generate_subgraphs(10)"
   ]
  },
  {
   "cell_type": "code",
   "execution_count": 174,
   "metadata": {},
   "outputs": [
    {
     "data": {
      "text/plain": [
       "346"
      ]
     },
     "execution_count": 174,
     "metadata": {},
     "output_type": "execute_result"
    }
   ],
   "source": [
    "len(vertices)"
   ]
  },
  {
   "cell_type": "code",
   "execution_count": 176,
   "metadata": {},
   "outputs": [],
   "source": [
    "def RecursiveConnectionSearch(node,connected_edge_list):\n",
    "    if node.state==1:\n",
    "        return connected_edge_list\n",
    "    connections=node.getConnections()\n",
    "    node.state=1\n",
    "    connected_edge_list.append(node.key)\n",
    "    if connections=={}:\n",
    "        return connected_edge_list\n",
    "    else:\n",
    "        for node in connections:\n",
    "            connected_edge_list=RecursiveConnectionSearch(directed_graph.nodes[node],connected_edge_list)\n",
    "    return connected_edge_list"
   ]
  },
  {
   "cell_type": "code",
   "execution_count": 177,
   "metadata": {},
   "outputs": [],
   "source": [
    "def getSubGraphs(graph):\n",
    "    subGraphs={}\n",
    "    for node in graph:\n",
    "        subGraphs[node.key]=RecursiveConnectionSearch(node,[])\n",
    "         \n",
    "    return subGraphs "
   ]
  },
  {
   "cell_type": "code",
   "execution_count": 178,
   "metadata": {},
   "outputs": [
    {
     "data": {
      "text/plain": [
       "{8: [8, 4, 1, 2, 5, 6, 0, 3, 9, 7],\n",
       " 4: [],\n",
       " 9: [],\n",
       " 7: [],\n",
       " 2: [],\n",
       " 5: [],\n",
       " 1: [],\n",
       " 0: [],\n",
       " 6: [],\n",
       " 3: [],\n",
       " 14: [14, 12, 16, 13, 10, 19, 15, 18, 11, 17],\n",
       " 12: [],\n",
       " 11: [],\n",
       " 16: [],\n",
       " 13: [],\n",
       " 18: [],\n",
       " 10: [],\n",
       " 19: [],\n",
       " 15: [],\n",
       " 17: [],\n",
       " 27: [27, 28, 21, 26, 29, 20, 25, 23, 22, 24],\n",
       " 28: [],\n",
       " 21: [],\n",
       " 24: [],\n",
       " 22: [],\n",
       " 29: [],\n",
       " 26: [],\n",
       " 20: [],\n",
       " 25: [],\n",
       " 23: [],\n",
       " 35: [35, 30, 32, 38, 39, 34, 31, 33, 37],\n",
       " 30: [],\n",
       " 32: [],\n",
       " 38: [],\n",
       " 34: [],\n",
       " 39: [],\n",
       " 37: [],\n",
       " 31: [],\n",
       " 33: [],\n",
       " 49: [49, 40, 47, 43, 42, 41, 46, 44, 48, 45],\n",
       " 40: [],\n",
       " 42: [],\n",
       " 43: [],\n",
       " 47: [],\n",
       " 48: [],\n",
       " 41: [],\n",
       " 46: [],\n",
       " 45: [],\n",
       " 44: [],\n",
       " 50: [50, 57, 59, 55, 53, 52, 54, 58, 51],\n",
       " 57: [],\n",
       " 53: [],\n",
       " 52: [],\n",
       " 55: [],\n",
       " 58: [],\n",
       " 51: [],\n",
       " 59: [],\n",
       " 54: [],\n",
       " 66: [66, 65, 61, 62, 63, 69, 67, 68, 60, 64],\n",
       " 65: [],\n",
       " 62: [],\n",
       " 63: [],\n",
       " 67: [],\n",
       " 69: [],\n",
       " 61: [],\n",
       " 60: [],\n",
       " 68: [],\n",
       " 64: [],\n",
       " 70: [70, 75, 71, 72, 73, 79, 76, 74, 78, 77],\n",
       " 75: [],\n",
       " 74: [],\n",
       " 73: [],\n",
       " 79: [],\n",
       " 71: [],\n",
       " 78: [],\n",
       " 72: [],\n",
       " 76: [],\n",
       " 77: [],\n",
       " 85: [85, 89, 86, 87, 80, 84, 88, 83, 81, 82],\n",
       " 89: [],\n",
       " 86: [],\n",
       " 87: [],\n",
       " 81: [],\n",
       " 82: [],\n",
       " 80: [],\n",
       " 84: [],\n",
       " 83: [],\n",
       " 88: [],\n",
       " 94: [94, 96, 92, 97, 93, 99, 98, 95, 90, 91],\n",
       " 96: [],\n",
       " 93: [],\n",
       " 99: [],\n",
       " 97: [],\n",
       " 95: [],\n",
       " 98: [],\n",
       " 90: [],\n",
       " 91: [],\n",
       " 92: []}"
      ]
     },
     "execution_count": 178,
     "metadata": {},
     "output_type": "execute_result"
    }
   ],
   "source": [
    "directed_graph=Graph()\n",
    "for n1,n2 in vertices:\n",
    "    directed_graph.creteConnection(n1,n2)\n",
    "    \n",
    "getSubGraphs(directed_graph)"
   ]
  },
  {
   "cell_type": "code",
   "execution_count": null,
   "metadata": {},
   "outputs": [],
   "source": []
  }
 ],
 "metadata": {
  "kernelspec": {
   "display_name": "Python 3",
   "language": "python",
   "name": "python3"
  },
  "language_info": {
   "codemirror_mode": {
    "name": "ipython",
    "version": 3
   },
   "file_extension": ".py",
   "mimetype": "text/x-python",
   "name": "python",
   "nbconvert_exporter": "python",
   "pygments_lexer": "ipython3",
   "version": "3.8.5"
  }
 },
 "nbformat": 4,
 "nbformat_minor": 4
}
